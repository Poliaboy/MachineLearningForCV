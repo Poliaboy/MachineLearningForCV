{
 "cells": [
  {
   "cell_type": "code",
   "execution_count": 1,
   "metadata": {},
   "outputs": [],
   "source": [
    "import torch\n",
    "import torchvision\n",
    "import torchvision.transforms as transforms\n",
    "import matplotlib.pyplot as plt\n",
    "import numpy as np\n",
    "from torch import nn\n",
    "import torch.nn.functional as F\n",
    "from torchvision.transforms import RandomHorizontalFlip, RandomCrop, ColorJitter\n",
    "import torch.optim as optim\n"
   ]
  },
  {
   "cell_type": "code",
   "execution_count": 2,
   "metadata": {},
   "outputs": [
    {
     "data": {
      "text/plain": [
       "<torch._C.Generator at 0x11d48bbf0>"
      ]
     },
     "execution_count": 2,
     "metadata": {},
     "output_type": "execute_result"
    }
   ],
   "source": [
    "\n",
    "# Set random seed for reproducibility\n",
    "torch.manual_seed(42)\n"
   ]
  },
  {
   "cell_type": "markdown",
   "metadata": {},
   "source": [
    "# Part I: Data Augmentation\n"
   ]
  },
  {
   "cell_type": "markdown",
   "metadata": {},
   "source": [
    "## Exercise 1: Implement Basic Data Augmentation\n"
   ]
  },
  {
   "cell_type": "code",
   "execution_count": 3,
   "metadata": {},
   "outputs": [],
   "source": [
    "# Part I: Data Augmentation\n",
    "def add_gaussian_noise(image, mean=0., std=0.03):  \n",
    "    noise = torch.randn(image.size()) * std + mean\n",
    "    noisy_image = image + noise\n",
    "    return torch.clamp(noisy_image, 0., 1.)\n",
    "\n",
    "# Define the normalization parameters for CIFAR-10\n",
    "CIFAR_MEAN = (0.4914, 0.4822, 0.4465)\n",
    "CIFAR_STD = (0.2470, 0.2435, 0.2616)\n",
    "\n",
    "# Define basic transformations with proper normalization\n",
    "basic_transform = transforms.Compose([\n",
    "    transforms.ToTensor(),\n",
    "    transforms.Normalize(CIFAR_MEAN, CIFAR_STD)\n",
    "])\n",
    "\n",
    "# Define augmented transformations with better parameters and order\n",
    "augmented_transform = transforms.Compose([\n",
    "    transforms.ToTensor(),\n",
    "    transforms.RandomCrop(32, padding=4, padding_mode='reflect'),\n",
    "    transforms.RandomHorizontalFlip(p=0.5),\n",
    "    ColorJitter(\n",
    "        brightness=0.2,  \n",
    "        contrast=0.2,   \n",
    "        saturation=0.2  \n",
    "    ),\n",
    "    transforms.Lambda(add_gaussian_noise),\n",
    "    transforms.Normalize(CIFAR_MEAN, CIFAR_STD)  \n",
    "])\n"
   ]
  },
  {
   "cell_type": "code",
   "execution_count": 4,
   "metadata": {},
   "outputs": [
    {
     "name": "stdout",
     "output_type": "stream",
     "text": [
      "Files already downloaded and verified\n"
     ]
    }
   ],
   "source": [
    "\n",
    "# Load CIFAR-10 dataset\n",
    "trainset_basic = torchvision.datasets.CIFAR10(root='./data', train=True,\n",
    "                                            download=True, transform=basic_transform)\n"
   ]
  },
  {
   "cell_type": "code",
   "execution_count": 5,
   "metadata": {},
   "outputs": [
    {
     "name": "stdout",
     "output_type": "stream",
     "text": [
      "Files already downloaded and verified\n"
     ]
    }
   ],
   "source": [
    "\n",
    "trainset_augmented = torchvision.datasets.CIFAR10(root='./data', train=True,\n",
    "                                                download=True, transform=augmented_transform)\n"
   ]
  },
  {
   "cell_type": "code",
   "execution_count": 6,
   "metadata": {},
   "outputs": [],
   "source": [
    "\n",
    "# Visualization function\n",
    "def show_images(original_images, augmented_images, num_images=5):\n",
    "    fig, axes = plt.subplots(2, num_images, figsize=(15, 6))\n",
    "    \n",
    "    for i in range(num_images):\n",
    "        # Show original images\n",
    "        axes[0, i].imshow(original_images[i].permute(1, 2, 0))\n",
    "        axes[0, i].axis('off')\n",
    "        axes[0, i].set_title('Original')\n",
    "        \n",
    "        # Show augmented images\n",
    "        axes[1, i].imshow(augmented_images[i].permute(1, 2, 0))\n",
    "        axes[1, i].axis('off')\n",
    "        axes[1, i].set_title('Augmented')\n",
    "    \n",
    "    plt.tight_layout()\n",
    "    plt.show()\n"
   ]
  },
  {
   "cell_type": "code",
   "execution_count": 7,
   "metadata": {},
   "outputs": [
    {
     "name": "stderr",
     "output_type": "stream",
     "text": [
      "Clipping input data to the valid range for imshow with RGB data ([0..1] for floats or [0..255] for integers). Got range [-1.9894737..2.0942786].\n",
      "Clipping input data to the valid range for imshow with RGB data ([0..1] for floats or [0..255] for integers). Got range [-1.9894737..2.1264887].\n",
      "Clipping input data to the valid range for imshow with RGB data ([0..1] for floats or [0..255] for integers). Got range [-1.9100897..2.100835].\n",
      "Clipping input data to the valid range for imshow with RGB data ([0..1] for floats or [0..255] for integers). Got range [-1.9459234..1.7919855].\n",
      "Clipping input data to the valid range for imshow with RGB data ([0..1] for floats or [0..255] for integers). Got range [-1.6581874..2.1264887].\n",
      "Clipping input data to the valid range for imshow with RGB data ([0..1] for floats or [0..255] for integers). Got range [-1.9802876..2.1264887].\n",
      "Clipping input data to the valid range for imshow with RGB data ([0..1] for floats or [0..255] for integers). Got range [-1.7709224..1.7256967].\n",
      "Clipping input data to the valid range for imshow with RGB data ([0..1] for floats or [0..255] for integers). Got range [-1.7381777..1.812253].\n",
      "Clipping input data to the valid range for imshow with RGB data ([0..1] for floats or [0..255] for integers). Got range [-1.9894737..2.0432324].\n",
      "Clipping input data to the valid range for imshow with RGB data ([0..1] for floats or [0..255] for integers). Got range [-1.9579195..1.8112006].\n"
     ]
    },
    {
     "data": {
      "image/png": "[encoded data removed]",
      "text/plain": [
       "<Figure size 1500x600 with 10 Axes>"
      ]
     },
     "metadata": {},
     "output_type": "display_data"
    }
   ],
   "source": [
    "\n",
    "# Get some random training images\n",
    "dataiter_basic = iter(torch.utils.data.DataLoader(trainset_basic, batch_size=5))\n",
    "dataiter_augmented = iter(torch.utils.data.DataLoader(trainset_augmented, batch_size=5))\n",
    "\n",
    "images_basic, _ = next(dataiter_basic)\n",
    "images_augmented, _ = next(dataiter_augmented)\n",
    "\n",
    "# Show images\n",
    "show_images(images_basic, images_augmented)\n"
   ]
  },
  {
   "cell_type": "markdown",
   "metadata": {},
   "source": [
    "## Exercise 2: Evaluate Impact of Data Augmentation\n"
   ]
  },
  {
   "cell_type": "code",
   "execution_count": 8,
   "metadata": {},
   "outputs": [],
   "source": [
    "# Define CNN architecture\n",
    "class SimpleCNN(nn.Module):\n",
    "    def __init__(self):\n",
    "        super(SimpleCNN, self).__init__()\n",
    "        self.conv1 = nn.Conv2d(3, 32, 3, padding=1)\n",
    "        self.conv2 = nn.Conv2d(32, 64, 3, padding=1)\n",
    "        self.conv3 = nn.Conv2d(64, 64, 3, padding=1)\n",
    "        self.pool = nn.MaxPool2d(2, 2)\n",
    "        self.fc1 = nn.Linear(64 * 4 * 4, 512)\n",
    "        self.fc2 = nn.Linear(512, 10)\n",
    "        self.dropout = nn.Dropout(0.5)\n",
    "\n",
    "    def forward(self, x):\n",
    "        x = F.relu(self.conv1(x))\n",
    "        x = self.pool(x)\n",
    "        x = F.relu(self.conv2(x))\n",
    "        x = self.pool(x)\n",
    "        x = F.relu(self.conv3(x))\n",
    "        x = self.pool(x)\n",
    "        x = x.view(-1, 64 * 4 * 4)\n",
    "        x = F.relu(self.fc1(x))\n",
    "        x = self.dropout(x)\n",
    "        x = self.fc2(x)\n",
    "        return x\n"
   ]
  },
  {
   "cell_type": "code",
   "execution_count": 9,
   "metadata": {},
   "outputs": [],
   "source": [
    "# First, let's modify the train_model function to return the losses\n",
    "def train_model(model, trainloader, criterion, optimizer, device, epochs=20):\n",
    "    model.train()\n",
    "    losses = []  # List to store all losses\n",
    "    \n",
    "    for epoch in range(epochs):\n",
    "        running_loss = 0.0\n",
    "        epoch_losses = []  # List to store losses for current epoch\n",
    "        \n",
    "        for i, data in enumerate(trainloader):\n",
    "            inputs, labels = data\n",
    "            inputs, labels = inputs.to(device), labels.to(device)\n",
    "            \n",
    "            optimizer.zero_grad()\n",
    "            outputs = model(inputs)\n",
    "            loss = criterion(outputs, labels)\n",
    "            loss.backward()\n",
    "            optimizer.step()\n",
    "            \n",
    "            running_loss += loss.item()\n",
    "            epoch_losses.append(loss.item())\n",
    "            \n",
    "            if (i + 1) % 200 == 0:\n",
    "                print(f'[{epoch + 1}, {i + 1:5d}] loss: {running_loss / 200:.3f}')\n",
    "                running_loss = 0.0\n",
    "        \n",
    "        losses.append(sum(epoch_losses) / len(epoch_losses))  # Average loss for the epoch\n",
    "    \n",
    "    return losses\n",
    "\n"
   ]
  },
  {
   "cell_type": "code",
   "execution_count": 10,
   "metadata": {},
   "outputs": [],
   "source": [
    "\n",
    "# Evaluation function\n",
    "def evaluate_model(model, testloader, device):\n",
    "    model.eval()\n",
    "    correct = 0\n",
    "    total = 0\n",
    "    with torch.no_grad():\n",
    "        for data in testloader:\n",
    "            images, labels = data[0].to(device), data[1].to(device)\n",
    "            outputs = model(images)\n",
    "            _, predicted = torch.max(outputs.data, 1)\n",
    "            total += labels.size(0)\n",
    "            correct += (predicted == labels).sum().item()\n",
    "    return 100 * correct / total\n"
   ]
  },
  {
   "cell_type": "code",
   "execution_count": 11,
   "metadata": {},
   "outputs": [
    {
     "name": "stdout",
     "output_type": "stream",
     "text": [
      "mps\n"
     ]
    }
   ],
   "source": [
    "\n",
    "# Setup for training\n",
    "device = torch.device(\"cuda\" if torch.cuda.is_available() else \"cpu\")\n",
    "device  = torch.device(\"mps\" if torch.mps.is_available() else device)\n",
    "print(device)\n"
   ]
  },
  {
   "cell_type": "code",
   "execution_count": 12,
   "metadata": {},
   "outputs": [],
   "source": [
    "\n",
    "batch_size = 32\n"
   ]
  },
  {
   "cell_type": "code",
   "execution_count": 13,
   "metadata": {},
   "outputs": [],
   "source": [
    "\n",
    "# Dataloaders\n",
    "trainloader_basic = torch.utils.data.DataLoader(trainset_basic, batch_size=batch_size,\n",
    "                                              shuffle=True, num_workers=2, drop_last=True)\n",
    "\n",
    "trainloader_augmented = torch.utils.data.DataLoader(trainset_augmented, batch_size=batch_size,\n",
    "                                                  shuffle=True, num_workers=0, drop_last=True)\n"
   ]
  },
  {
   "cell_type": "code",
   "execution_count": 14,
   "metadata": {},
   "outputs": [
    {
     "name": "stdout",
     "output_type": "stream",
     "text": [
      "Files already downloaded and verified\n"
     ]
    }
   ],
   "source": [
    "\n",
    "testset = torchvision.datasets.CIFAR10(root='./data', train=False,\n",
    "                                     download=True, transform=basic_transform)\n"
   ]
  },
  {
   "cell_type": "code",
   "execution_count": 15,
   "metadata": {},
   "outputs": [],
   "source": [
    "\n",
    "testloader = torch.utils.data.DataLoader(testset, batch_size=batch_size,\n",
    "                                      shuffle=False, num_workers=2, drop_last=True)\n"
   ]
  },
  {
   "cell_type": "code",
   "execution_count": 16,
   "metadata": {},
   "outputs": [],
   "source": [
    "\n",
    "# Train and evaluate models\n",
    "models = {\n",
    "    'augmented': SimpleCNN().to(device),\n",
    "    'basic': SimpleCNN().to(device)\n",
    "}\n"
   ]
  },
  {
   "cell_type": "code",
   "execution_count": 17,
   "metadata": {},
   "outputs": [
    {
     "name": "stdout",
     "output_type": "stream",
     "text": [
      "\n",
      "Training augmented model...\n",
      "[1,   200] loss: 2.008\n",
      "[1,   400] loss: 1.739\n",
      "[1,   600] loss: 1.601\n",
      "[1,   800] loss: 1.541\n",
      "[1,  1000] loss: 1.467\n",
      "[1,  1200] loss: 1.412\n",
      "[1,  1400] loss: 1.351\n",
      "[2,   200] loss: 1.298\n",
      "[2,   400] loss: 1.247\n",
      "[2,   600] loss: 1.227\n",
      "[2,   800] loss: 1.220\n",
      "[2,  1000] loss: 1.178\n",
      "[2,  1200] loss: 1.160\n",
      "[2,  1400] loss: 1.142\n",
      "[3,   200] loss: 1.104\n",
      "[3,   400] loss: 1.109\n",
      "[3,   600] loss: 1.090\n",
      "[3,   800] loss: 1.075\n",
      "[3,  1000] loss: 1.068\n",
      "[3,  1200] loss: 1.052\n",
      "[3,  1400] loss: 1.058\n",
      "[4,   200] loss: 1.044\n",
      "[4,   400] loss: 1.017\n",
      "[4,   600] loss: 1.007\n",
      "[4,   800] loss: 1.003\n",
      "[4,  1000] loss: 0.991\n",
      "[4,  1200] loss: 0.974\n",
      "[4,  1400] loss: 1.021\n",
      "[5,   200] loss: 0.951\n",
      "[5,   400] loss: 0.959\n",
      "[5,   600] loss: 0.972\n",
      "[5,   800] loss: 0.982\n",
      "[5,  1000] loss: 0.948\n",
      "[5,  1200] loss: 0.931\n",
      "[5,  1400] loss: 0.950\n",
      "[6,   200] loss: 0.932\n",
      "[6,   400] loss: 0.923\n",
      "[6,   600] loss: 0.926\n",
      "[6,   800] loss: 0.903\n",
      "[6,  1000] loss: 0.924\n",
      "[6,  1200] loss: 0.900\n",
      "[6,  1400] loss: 0.918\n",
      "[7,   200] loss: 0.855\n",
      "[7,   400] loss: 0.884\n",
      "[7,   600] loss: 0.886\n",
      "[7,   800] loss: 0.902\n",
      "[7,  1000] loss: 0.913\n",
      "[7,  1200] loss: 0.892\n",
      "[7,  1400] loss: 0.873\n",
      "[8,   200] loss: 0.842\n",
      "[8,   400] loss: 0.859\n",
      "[8,   600] loss: 0.855\n",
      "[8,   800] loss: 0.891\n",
      "[8,  1000] loss: 0.862\n",
      "[8,  1200] loss: 0.876\n",
      "[8,  1400] loss: 0.849\n",
      "[9,   200] loss: 0.838\n",
      "[9,   400] loss: 0.839\n",
      "[9,   600] loss: 0.826\n",
      "[9,   800] loss: 0.853\n",
      "[9,  1000] loss: 0.859\n",
      "[9,  1200] loss: 0.841\n",
      "[9,  1400] loss: 0.837\n",
      "[10,   200] loss: 0.826\n",
      "[10,   400] loss: 0.815\n",
      "[10,   600] loss: 0.842\n",
      "[10,   800] loss: 0.835\n",
      "[10,  1000] loss: 0.824\n",
      "[10,  1200] loss: 0.857\n",
      "[10,  1400] loss: 0.842\n",
      "[11,   200] loss: 0.832\n",
      "[11,   400] loss: 0.828\n",
      "[11,   600] loss: 0.806\n",
      "[11,   800] loss: 0.811\n",
      "[11,  1000] loss: 0.851\n",
      "[11,  1200] loss: 0.799\n",
      "[11,  1400] loss: 0.796\n",
      "[12,   200] loss: 0.791\n",
      "[12,   400] loss: 0.802\n",
      "[12,   600] loss: 0.819\n",
      "[12,   800] loss: 0.809\n",
      "[12,  1000] loss: 0.824\n",
      "[12,  1200] loss: 0.833\n",
      "[12,  1400] loss: 0.821\n",
      "[13,   200] loss: 0.811\n",
      "[13,   400] loss: 0.789\n",
      "[13,   600] loss: 0.830\n",
      "[13,   800] loss: 0.799\n",
      "[13,  1000] loss: 0.807\n",
      "[13,  1200] loss: 0.789\n",
      "[13,  1400] loss: 0.775\n",
      "[14,   200] loss: 0.800\n",
      "[14,   400] loss: 0.809\n",
      "[14,   600] loss: 0.797\n",
      "[14,   800] loss: 0.791\n",
      "[14,  1000] loss: 0.783\n",
      "[14,  1200] loss: 0.795\n",
      "[14,  1400] loss: 0.783\n",
      "[15,   200] loss: 0.763\n",
      "[15,   400] loss: 0.791\n",
      "[15,   600] loss: 0.788\n",
      "[15,   800] loss: 0.771\n",
      "[15,  1000] loss: 0.775\n",
      "[15,  1200] loss: 0.754\n",
      "[15,  1400] loss: 0.790\n",
      "[16,   200] loss: 0.781\n",
      "[16,   400] loss: 0.764\n",
      "[16,   600] loss: 0.762\n",
      "[16,   800] loss: 0.800\n",
      "[16,  1000] loss: 0.781\n",
      "[16,  1200] loss: 0.784\n",
      "[16,  1400] loss: 0.783\n",
      "[17,   200] loss: 0.749\n",
      "[17,   400] loss: 0.746\n",
      "[17,   600] loss: 0.770\n",
      "[17,   800] loss: 0.771\n",
      "[17,  1000] loss: 0.775\n",
      "[17,  1200] loss: 0.756\n",
      "[17,  1400] loss: 0.788\n",
      "[18,   200] loss: 0.772\n",
      "[18,   400] loss: 0.755\n",
      "[18,   600] loss: 0.752\n",
      "[18,   800] loss: 0.768\n",
      "[18,  1000] loss: 0.728\n",
      "[18,  1200] loss: 0.771\n",
      "[18,  1400] loss: 0.767\n",
      "[19,   200] loss: 0.756\n",
      "[19,   400] loss: 0.744\n",
      "[19,   600] loss: 0.766\n",
      "[19,   800] loss: 0.763\n",
      "[19,  1000] loss: 0.762\n",
      "[19,  1200] loss: 0.749\n",
      "[19,  1400] loss: 0.747\n",
      "[20,   200] loss: 0.756\n",
      "[20,   400] loss: 0.729\n",
      "[20,   600] loss: 0.744\n",
      "[20,   800] loss: 0.777\n",
      "[20,  1000] loss: 0.741\n",
      "[20,  1200] loss: 0.747\n",
      "[20,  1400] loss: 0.758\n",
      "Augmented Model Test Accuracy: 77.30%\n",
      "\n",
      "Training basic model...\n",
      "[1,   200] loss: 1.925\n",
      "[1,   400] loss: 1.583\n",
      "[1,   600] loss: 1.423\n",
      "[1,   800] loss: 1.367\n",
      "[1,  1000] loss: 1.292\n",
      "[1,  1200] loss: 1.246\n",
      "[1,  1400] loss: 1.180\n",
      "[2,   200] loss: 1.070\n",
      "[2,   400] loss: 1.061\n",
      "[2,   600] loss: 1.023\n",
      "[2,   800] loss: 1.010\n",
      "[2,  1000] loss: 1.009\n",
      "[2,  1200] loss: 0.968\n",
      "[2,  1400] loss: 0.963\n",
      "[3,   200] loss: 0.901\n",
      "[3,   400] loss: 0.834\n",
      "[3,   600] loss: 0.873\n",
      "[3,   800] loss: 0.879\n",
      "[3,  1000] loss: 0.837\n",
      "[3,  1200] loss: 0.854\n",
      "[3,  1400] loss: 0.849\n",
      "[4,   200] loss: 0.733\n",
      "[4,   400] loss: 0.784\n",
      "[4,   600] loss: 0.782\n",
      "[4,   800] loss: 0.777\n",
      "[4,  1000] loss: 0.728\n",
      "[4,  1200] loss: 0.781\n",
      "[4,  1400] loss: 0.751\n",
      "[5,   200] loss: 0.681\n",
      "[5,   400] loss: 0.685\n",
      "[5,   600] loss: 0.690\n",
      "[5,   800] loss: 0.700\n",
      "[5,  1000] loss: 0.709\n",
      "[5,  1200] loss: 0.704\n",
      "[5,  1400] loss: 0.691\n",
      "[6,   200] loss: 0.614\n",
      "[6,   400] loss: 0.613\n",
      "[6,   600] loss: 0.647\n",
      "[6,   800] loss: 0.627\n",
      "[6,  1000] loss: 0.660\n",
      "[6,  1200] loss: 0.639\n",
      "[6,  1400] loss: 0.667\n",
      "[7,   200] loss: 0.565\n",
      "[7,   400] loss: 0.561\n",
      "[7,   600] loss: 0.590\n",
      "[7,   800] loss: 0.589\n",
      "[7,  1000] loss: 0.601\n",
      "[7,  1200] loss: 0.605\n",
      "[7,  1400] loss: 0.623\n",
      "[8,   200] loss: 0.518\n",
      "[8,   400] loss: 0.526\n",
      "[8,   600] loss: 0.555\n",
      "[8,   800] loss: 0.553\n",
      "[8,  1000] loss: 0.570\n",
      "[8,  1200] loss: 0.569\n",
      "[8,  1400] loss: 0.576\n",
      "[9,   200] loss: 0.475\n",
      "[9,   400] loss: 0.478\n",
      "[9,   600] loss: 0.499\n",
      "[9,   800] loss: 0.540\n",
      "[9,  1000] loss: 0.520\n",
      "[9,  1200] loss: 0.540\n",
      "[9,  1400] loss: 0.526\n",
      "[10,   200] loss: 0.437\n",
      "[10,   400] loss: 0.437\n",
      "[10,   600] loss: 0.459\n",
      "[10,   800] loss: 0.473\n",
      "[10,  1000] loss: 0.518\n",
      "[10,  1200] loss: 0.513\n",
      "[10,  1400] loss: 0.524\n",
      "[11,   200] loss: 0.425\n",
      "[11,   400] loss: 0.419\n",
      "[11,   600] loss: 0.448\n",
      "[11,   800] loss: 0.470\n",
      "[11,  1000] loss: 0.478\n",
      "[11,  1200] loss: 0.474\n",
      "[11,  1400] loss: 0.477\n",
      "[12,   200] loss: 0.414\n",
      "[12,   400] loss: 0.421\n",
      "[12,   600] loss: 0.418\n",
      "[12,   800] loss: 0.408\n",
      "[12,  1000] loss: 0.424\n",
      "[12,  1200] loss: 0.466\n",
      "[12,  1400] loss: 0.446\n",
      "[13,   200] loss: 0.376\n",
      "[13,   400] loss: 0.389\n",
      "[13,   600] loss: 0.417\n",
      "[13,   800] loss: 0.417\n",
      "[13,  1000] loss: 0.411\n",
      "[13,  1200] loss: 0.416\n",
      "[13,  1400] loss: 0.438\n",
      "[14,   200] loss: 0.358\n",
      "[14,   400] loss: 0.355\n",
      "[14,   600] loss: 0.394\n",
      "[14,   800] loss: 0.397\n",
      "[14,  1000] loss: 0.379\n",
      "[14,  1200] loss: 0.405\n",
      "[14,  1400] loss: 0.400\n",
      "[15,   200] loss: 0.347\n",
      "[15,   400] loss: 0.352\n",
      "[15,   600] loss: 0.366\n",
      "[15,   800] loss: 0.369\n",
      "[15,  1000] loss: 0.359\n",
      "[15,  1200] loss: 0.417\n",
      "[15,  1400] loss: 0.409\n",
      "[16,   200] loss: 0.317\n",
      "[16,   400] loss: 0.330\n",
      "[16,   600] loss: 0.335\n",
      "[16,   800] loss: 0.361\n",
      "[16,  1000] loss: 0.375\n",
      "[16,  1200] loss: 0.361\n",
      "[16,  1400] loss: 0.386\n",
      "[17,   200] loss: 0.302\n",
      "[17,   400] loss: 0.320\n",
      "[17,   600] loss: 0.363\n",
      "[17,   800] loss: 0.334\n",
      "[17,  1000] loss: 0.360\n",
      "[17,  1200] loss: 0.370\n",
      "[17,  1400] loss: 0.354\n",
      "[18,   200] loss: 0.306\n",
      "[18,   400] loss: 0.320\n",
      "[18,   600] loss: 0.326\n",
      "[18,   800] loss: 0.340\n",
      "[18,  1000] loss: 0.350\n",
      "[18,  1200] loss: 0.353\n",
      "[18,  1400] loss: 0.343\n",
      "[19,   200] loss: 0.272\n",
      "[19,   400] loss: 0.307\n",
      "[19,   600] loss: 0.303\n",
      "[19,   800] loss: 0.330\n",
      "[19,  1000] loss: 0.332\n",
      "[19,  1200] loss: 0.313\n",
      "[19,  1400] loss: 0.339\n",
      "[20,   200] loss: 0.274\n",
      "[20,   400] loss: 0.289\n",
      "[20,   600] loss: 0.316\n",
      "[20,   800] loss: 0.333\n",
      "[20,  1000] loss: 0.319\n",
      "[20,  1200] loss: 0.315\n",
      "[20,  1400] loss: 0.362\n",
      "Basic Model Test Accuracy: 76.14%\n"
     ]
    },
    {
     "data": {
      "image/png": "[encoded data removed]",
      "text/plain": [
       "<Figure size 1000x600 with 1 Axes>"
      ]
     },
     "metadata": {},
     "output_type": "display_data"
    }
   ],
   "source": [
    "\n",
    "criterion = nn.CrossEntropyLoss()\n",
    "results = {}\n",
    "training_losses = {}\n",
    "\n",
    "for model_name, model in models.items():\n",
    "    print(f\"\\nTraining {model_name} model...\")\n",
    "    optimizer = optim.Adam(model.parameters(), lr=0.001)\n",
    "    \n",
    "    if model_name == 'basic':\n",
    "        losses = train_model(model, trainloader_basic, criterion, optimizer, device)\n",
    "    else:\n",
    "        losses = train_model(model, trainloader_augmented, criterion, optimizer, device)\n",
    "    \n",
    "    training_losses[model_name] = losses\n",
    "    accuracy = evaluate_model(model, testloader, device)\n",
    "    results[model_name] = accuracy\n",
    "    print(f'{model_name.capitalize()} Model Test Accuracy: {accuracy:.2f}%')\n",
    "\n",
    "# Plot the loss curves\n",
    "plt.figure(figsize=(10, 6))\n",
    "for model_name, losses in training_losses.items():\n",
    "    plt.plot(range(1, len(losses) + 1), losses, marker='o', label=f'{model_name} model')\n",
    "\n",
    "plt.title('Training Loss Over Time')\n",
    "plt.xlabel('Epoch')\n",
    "plt.ylabel('Loss')\n",
    "plt.legend()\n",
    "plt.grid(True)\n",
    "plt.show()"
   ]
  },
  {
   "cell_type": "code",
   "execution_count": 18,
   "metadata": {},
   "outputs": [
    {
     "data": {
      "image/png": "[encoded data removed]",
      "text/plain": [
       "<Figure size 800x600 with 1 Axes>"
      ]
     },
     "metadata": {},
     "output_type": "display_data"
    }
   ],
   "source": [
    "\n",
    "# Plot results\n",
    "plt.figure(figsize=(8, 6))\n",
    "plt.bar(results.keys(), results.values())\n",
    "plt.title('Model Performance Comparison')\n",
    "plt.ylabel('Test Accuracy (%)')\n",
    "plt.ylim(0, 100)\n",
    "for i, v in enumerate(results.values()):\n",
    "    plt.text(i, v + 1, f'{v:.2f}%', ha='center')\n",
    "plt.show()"
   ]
  }
 ],
 "metadata": {
  "kernelspec": {
   "display_name": ".venv",
   "language": "python",
   "name": "python3"
  },
  "language_info": {
   "codemirror_mode": {
    "name": "ipython",
    "version": 3
   },
   "file_extension": ".py",
   "mimetype": "text/x-python",
   "name": "python",
   "nbconvert_exporter": "python",
   "pygments_lexer": "ipython3",
   "version": "3.11.10"
  }
 },
 "nbformat": 4,
 "nbformat_minor": 2
}
