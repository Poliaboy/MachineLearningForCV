{
 "cells": [
  {
   "cell_type": "code",
   "execution_count": 1,
   "metadata": {},
   "outputs": [],
   "source": [
    "import torch\n",
    "import torchvision\n",
    "import torchvision.transforms as transforms\n",
    "import matplotlib.pyplot as plt\n",
    "import numpy as np\n",
    "from torch import nn\n",
    "import torch.nn.functional as F\n",
    "from torchvision.transforms import RandomHorizontalFlip, RandomCrop, ColorJitter\n",
    "import torch.optim as optim\n"
   ]
  },
  {
   "cell_type": "code",
   "execution_count": 2,
   "metadata": {},
   "outputs": [
    {
     "data": {
      "text/plain": [
       "<torch._C.Generator at 0x1253bfbf0>"
      ]
     },
     "execution_count": 2,
     "metadata": {},
     "output_type": "execute_result"
    }
   ],
   "source": [
    "\n",
    "# Set random seed for reproducibility\n",
    "torch.manual_seed(42)\n"
   ]
  },
  {
   "cell_type": "code",
   "execution_count": 3,
   "metadata": {},
   "outputs": [],
   "source": [
    "# Part I: Data Augmentation\n",
    "# Exercise 1: Implement Basic Data Augmentation\n",
    "def add_gaussian_noise(image, mean=0., std=0.02):  \n",
    "    noise = torch.randn(image.size()) * std + mean\n",
    "    noisy_image = image + noise\n",
    "    return torch.clamp(noisy_image, 0., 1.)\n",
    "\n",
    "# Define the normalization parameters for CIFAR-10\n",
    "CIFAR_MEAN = (0.4914, 0.4822, 0.4465)\n",
    "CIFAR_STD = (0.2470, 0.2435, 0.2616)\n",
    "\n",
    "# Define basic transformations with proper normalization\n",
    "basic_transform = transforms.Compose([\n",
    "    transforms.ToTensor(),\n",
    "    transforms.Normalize(CIFAR_MEAN, CIFAR_STD)\n",
    "])\n",
    "\n",
    "# Define augmented transformations with better parameters and order\n",
    "augmented_transform = transforms.Compose([\n",
    "    transforms.ToTensor(),\n",
    "    transforms.RandomCrop(32, padding=4, padding_mode='reflect'),\n",
    "    transforms.RandomHorizontalFlip(p=0.5),\n",
    "    ColorJitter(\n",
    "        brightness=0.1,  \n",
    "        contrast=0.1,   \n",
    "        saturation=0.1  \n",
    "    ),\n",
    "    transforms.Lambda(add_gaussian_noise),\n",
    "    transforms.Normalize(CIFAR_MEAN, CIFAR_STD)  \n",
    "])\n"
   ]
  },
  {
   "cell_type": "code",
   "execution_count": 4,
   "metadata": {},
   "outputs": [
    {
     "name": "stdout",
     "output_type": "stream",
     "text": [
      "Files already downloaded and verified\n"
     ]
    }
   ],
   "source": [
    "\n",
    "# Load CIFAR-10 dataset\n",
    "trainset_basic = torchvision.datasets.CIFAR10(root='./data', train=True,\n",
    "                                            download=True, transform=basic_transform)\n"
   ]
  },
  {
   "cell_type": "code",
   "execution_count": 5,
   "metadata": {},
   "outputs": [
    {
     "name": "stdout",
     "output_type": "stream",
     "text": [
      "Files already downloaded and verified\n"
     ]
    }
   ],
   "source": [
    "\n",
    "trainset_augmented = torchvision.datasets.CIFAR10(root='./data', train=True,\n",
    "                                                download=True, transform=augmented_transform)\n"
   ]
  },
  {
   "cell_type": "code",
   "execution_count": 6,
   "metadata": {},
   "outputs": [],
   "source": [
    "\n",
    "# Visualization function\n",
    "def show_images(original_images, augmented_images, num_images=5):\n",
    "    fig, axes = plt.subplots(2, num_images, figsize=(15, 6))\n",
    "    \n",
    "    for i in range(num_images):\n",
    "        # Show original images\n",
    "        axes[0, i].imshow(original_images[i].permute(1, 2, 0))\n",
    "        axes[0, i].axis('off')\n",
    "        axes[0, i].set_title('Original')\n",
    "        \n",
    "        # Show augmented images\n",
    "        axes[1, i].imshow(augmented_images[i].permute(1, 2, 0))\n",
    "        axes[1, i].axis('off')\n",
    "        axes[1, i].set_title('Augmented')\n",
    "    \n",
    "    plt.tight_layout()\n",
    "    plt.show()\n"
   ]
  },
  {
   "cell_type": "code",
   "execution_count": 7,
   "metadata": {},
   "outputs": [
    {
     "name": "stderr",
     "output_type": "stream",
     "text": [
      "Clipping input data to the valid range for imshow with RGB data ([0..1] for floats or [0..255] for integers). Got range [-1.9894737..2.0942786].\n",
      "Clipping input data to the valid range for imshow with RGB data ([0..1] for floats or [0..255] for integers). Got range [-1.9894737..2.1264887].\n",
      "Clipping input data to the valid range for imshow with RGB data ([0..1] for floats or [0..255] for integers). Got range [-1.9100897..2.100835].\n",
      "Clipping input data to the valid range for imshow with RGB data ([0..1] for floats or [0..255] for integers). Got range [-1.927342..1.9493101].\n",
      "Clipping input data to the valid range for imshow with RGB data ([0..1] for floats or [0..255] for integers). Got range [-1.6581874..2.1264887].\n",
      "Clipping input data to the valid range for imshow with RGB data ([0..1] for floats or [0..255] for integers). Got range [-1.8500937..2.1264887].\n",
      "Clipping input data to the valid range for imshow with RGB data ([0..1] for floats or [0..255] for integers). Got range [-1.7709224..1.7256967].\n",
      "Clipping input data to the valid range for imshow with RGB data ([0..1] for floats or [0..255] for integers). Got range [-1.7756367..1.7521906].\n",
      "Clipping input data to the valid range for imshow with RGB data ([0..1] for floats or [0..255] for integers). Got range [-1.9894737..2.0432324].\n",
      "Clipping input data to the valid range for imshow with RGB data ([0..1] for floats or [0..255] for integers). Got range [-1.9894737..1.9213995].\n"
     ]
    },
    {
     "data": {
      "image/png": "[encoded data removed]",
      "text/plain": [
       "<Figure size 1500x600 with 10 Axes>"
      ]
     },
     "metadata": {},
     "output_type": "display_data"
    }
   ],
   "source": [
    "\n",
    "# Get some random training images\n",
    "dataiter_basic = iter(torch.utils.data.DataLoader(trainset_basic, batch_size=5))\n",
    "dataiter_augmented = iter(torch.utils.data.DataLoader(trainset_augmented, batch_size=5))\n",
    "\n",
    "images_basic, _ = next(dataiter_basic)\n",
    "images_augmented, _ = next(dataiter_augmented)\n",
    "\n",
    "# Show images\n",
    "show_images(images_basic, images_augmented)\n"
   ]
  },
  {
   "cell_type": "code",
   "execution_count": 8,
   "metadata": {},
   "outputs": [],
   "source": [
    "# Exercise 2: Evaluate Impact of Data Augmentation\n",
    "# Define CNN architecture\n",
    "class SimpleCNN(nn.Module):\n",
    "    def __init__(self):\n",
    "        super(SimpleCNN, self).__init__()\n",
    "        self.conv1 = nn.Conv2d(3, 32, 3, padding=1)\n",
    "        self.conv2 = nn.Conv2d(32, 64, 3, padding=1)\n",
    "        self.conv3 = nn.Conv2d(64, 64, 3, padding=1)\n",
    "        self.pool = nn.MaxPool2d(2, 2)\n",
    "        self.fc1 = nn.Linear(64 * 4 * 4, 512)\n",
    "        self.fc2 = nn.Linear(512, 10)\n",
    "        self.dropout = nn.Dropout(0.5)\n",
    "\n",
    "    def forward(self, x):\n",
    "        x = F.relu(self.conv1(x))\n",
    "        x = self.pool(x)\n",
    "        x = F.relu(self.conv2(x))\n",
    "        x = self.pool(x)\n",
    "        x = F.relu(self.conv3(x))\n",
    "        x = self.pool(x)\n",
    "        x = x.view(-1, 64 * 4 * 4)\n",
    "        x = F.relu(self.fc1(x))\n",
    "        x = self.dropout(x)\n",
    "        x = self.fc2(x)\n",
    "        return x\n"
   ]
  },
  {
   "cell_type": "code",
   "execution_count": 9,
   "metadata": {},
   "outputs": [],
   "source": [
    "def train_model(model, trainloader, criterion, optimizer, device, epochs=5):\n",
    "    model.train()\n",
    "    running_loss = 0.0\n",
    "    \n",
    "    for epoch in range(epochs):\n",
    "        for i, data in enumerate(trainloader):\n",
    "            # Get the inputs and labels and move them to the device\n",
    "            inputs, labels = data\n",
    "            inputs, labels = inputs.to(device), labels.to(device)\n",
    "            \n",
    "            # Zero the parameter gradients\n",
    "            optimizer.zero_grad()\n",
    "            \n",
    "            # Forward + backward + optimize\n",
    "            outputs = model(inputs)\n",
    "            loss = criterion(outputs, labels)\n",
    "            loss.backward()\n",
    "            optimizer.step()\n",
    "            \n",
    "            # Print statistics\n",
    "            running_loss += loss.item()\n",
    "            if i % 200 == 199:    # Print every 200 mini-batches\n",
    "                print(f'[{epoch + 1}, {i + 1:5d}] loss: {running_loss / 200:.3f}')\n",
    "                running_loss = 0.0"
   ]
  },
  {
   "cell_type": "code",
   "execution_count": 10,
   "metadata": {},
   "outputs": [],
   "source": [
    "\n",
    "# Evaluation function\n",
    "def evaluate_model(model, testloader, device):\n",
    "    model.eval()\n",
    "    correct = 0\n",
    "    total = 0\n",
    "    with torch.no_grad():\n",
    "        for data in testloader:\n",
    "            images, labels = data[0].to(device), data[1].to(device)\n",
    "            outputs = model(images)\n",
    "            _, predicted = torch.max(outputs.data, 1)\n",
    "            total += labels.size(0)\n",
    "            correct += (predicted == labels).sum().item()\n",
    "    return 100 * correct / total\n"
   ]
  },
  {
   "cell_type": "code",
   "execution_count": 11,
   "metadata": {},
   "outputs": [
    {
     "name": "stdout",
     "output_type": "stream",
     "text": [
      "mps\n"
     ]
    }
   ],
   "source": [
    "\n",
    "# Setup for training\n",
    "device = torch.device(\"cuda\" if torch.cuda.is_available() else \"cpu\")\n",
    "device  = torch.device(\"mps\" if torch.mps.is_available() else device)\n",
    "print(device)\n"
   ]
  },
  {
   "cell_type": "code",
   "execution_count": 12,
   "metadata": {},
   "outputs": [],
   "source": [
    "\n",
    "batch_size = 32\n"
   ]
  },
  {
   "cell_type": "code",
   "execution_count": 13,
   "metadata": {},
   "outputs": [],
   "source": [
    "\n",
    "# Dataloaders\n",
    "trainloader_basic = torch.utils.data.DataLoader(trainset_basic, batch_size=batch_size,\n",
    "                                              shuffle=True, num_workers=2, drop_last=True)\n",
    "\n",
    "trainloader_augmented = torch.utils.data.DataLoader(trainset_augmented, batch_size=batch_size,\n",
    "                                                  shuffle=True, num_workers=0, drop_last=True)\n"
   ]
  },
  {
   "cell_type": "code",
   "execution_count": 14,
   "metadata": {},
   "outputs": [
    {
     "name": "stdout",
     "output_type": "stream",
     "text": [
      "Files already downloaded and verified\n"
     ]
    }
   ],
   "source": [
    "\n",
    "testset = torchvision.datasets.CIFAR10(root='./data', train=False,\n",
    "                                     download=True, transform=basic_transform)\n"
   ]
  },
  {
   "cell_type": "code",
   "execution_count": 15,
   "metadata": {},
   "outputs": [],
   "source": [
    "\n",
    "testloader = torch.utils.data.DataLoader(testset, batch_size=batch_size,\n",
    "                                      shuffle=False, num_workers=2, drop_last=True)\n"
   ]
  },
  {
   "cell_type": "code",
   "execution_count": 16,
   "metadata": {},
   "outputs": [],
   "source": [
    "\n",
    "# Train and evaluate models\n",
    "models = {\n",
    "    'augmented': SimpleCNN().to(device),\n",
    "    'basic': SimpleCNN().to(device)\n",
    "}\n"
   ]
  },
  {
   "cell_type": "code",
   "execution_count": 17,
   "metadata": {},
   "outputs": [
    {
     "name": "stdout",
     "output_type": "stream",
     "text": [
      "\n",
      "Training augmented model...\n",
      "[1,   200] loss: 1.981\n",
      "[1,   400] loss: 1.713\n",
      "[1,   600] loss: 1.566\n",
      "[1,   800] loss: 1.504\n",
      "[1,  1000] loss: 1.417\n",
      "[1,  1200] loss: 1.365\n",
      "[1,  1400] loss: 1.317\n",
      "[2,   200] loss: 2.258\n",
      "[2,   400] loss: 1.198\n",
      "[2,   600] loss: 1.177\n",
      "[2,   800] loss: 1.176\n",
      "[2,  1000] loss: 1.132\n",
      "[2,  1200] loss: 1.123\n",
      "[2,  1400] loss: 1.102\n",
      "[3,   200] loss: 1.970\n",
      "[3,   400] loss: 1.074\n",
      "[3,   600] loss: 1.045\n",
      "[3,   800] loss: 1.042\n",
      "[3,  1000] loss: 1.018\n",
      "[3,  1200] loss: 1.029\n",
      "[3,  1400] loss: 1.014\n",
      "[4,   200] loss: 1.815\n",
      "[4,   400] loss: 0.965\n",
      "[4,   600] loss: 0.953\n",
      "[4,   800] loss: 0.960\n",
      "[4,  1000] loss: 0.944\n",
      "[4,  1200] loss: 0.941\n",
      "[4,  1400] loss: 0.978\n",
      "[5,   200] loss: 1.675\n",
      "[5,   400] loss: 0.914\n",
      "[5,   600] loss: 0.924\n",
      "[5,   800] loss: 0.927\n",
      "[5,  1000] loss: 0.911\n",
      "[5,  1200] loss: 0.898\n",
      "[5,  1400] loss: 0.929\n",
      "Augmented Model Test Accuracy: 72.09%\n",
      "\n",
      "Training basic model...\n",
      "[1,   200] loss: 1.920\n",
      "[1,   400] loss: 1.582\n",
      "[1,   600] loss: 1.428\n",
      "[1,   800] loss: 1.339\n",
      "[1,  1000] loss: 1.250\n",
      "[1,  1200] loss: 1.173\n",
      "[1,  1400] loss: 1.148\n",
      "[2,   200] loss: 1.960\n",
      "[2,   400] loss: 1.002\n",
      "[2,   600] loss: 1.003\n",
      "[2,   800] loss: 0.957\n",
      "[2,  1000] loss: 0.967\n",
      "[2,  1200] loss: 0.959\n",
      "[2,  1400] loss: 0.914\n",
      "[3,   200] loss: 1.583\n",
      "[3,   400] loss: 0.814\n",
      "[3,   600] loss: 0.837\n",
      "[3,   800] loss: 0.812\n",
      "[3,  1000] loss: 0.835\n",
      "[3,  1200] loss: 0.823\n",
      "[3,  1400] loss: 0.823\n",
      "[4,   200] loss: 1.397\n",
      "[4,   400] loss: 0.724\n",
      "[4,   600] loss: 0.735\n",
      "[4,   800] loss: 0.742\n",
      "[4,  1000] loss: 0.717\n",
      "[4,  1200] loss: 0.752\n",
      "[4,  1400] loss: 0.734\n",
      "[5,   200] loss: 1.273\n",
      "[5,   400] loss: 0.661\n",
      "[5,   600] loss: 0.652\n",
      "[5,   800] loss: 0.659\n",
      "[5,  1000] loss: 0.662\n",
      "[5,  1200] loss: 0.666\n",
      "[5,  1400] loss: 0.690\n",
      "Basic Model Test Accuracy: 74.25%\n"
     ]
    }
   ],
   "source": [
    "\n",
    "criterion = nn.CrossEntropyLoss()\n",
    "results = {}\n",
    "\n",
    "for model_name, model in models.items():\n",
    "    print(f\"\\nTraining {model_name} model...\")\n",
    "    optimizer = optim.Adam(model.parameters(), lr=0.001)\n",
    "    \n",
    "    if model_name == 'basic':\n",
    "        train_model(model, trainloader_basic, criterion, optimizer, device)\n",
    "    else:\n",
    "        train_model(model, trainloader_augmented, criterion, optimizer, device)\n",
    "    \n",
    "    accuracy = evaluate_model(model, testloader, device)\n",
    "    results[model_name] = accuracy\n",
    "    print(f'{model_name.capitalize()} Model Test Accuracy: {accuracy:.2f}%')\n"
   ]
  },
  {
   "cell_type": "code",
   "execution_count": 18,
   "metadata": {},
   "outputs": [
    {
     "data": {
      "image/png": "[encoded data removed]",
      "text/plain": [
       "<Figure size 800x600 with 1 Axes>"
      ]
     },
     "metadata": {},
     "output_type": "display_data"
    }
   ],
   "source": [
    "\n",
    "# Plot results\n",
    "plt.figure(figsize=(8, 6))\n",
    "plt.bar(results.keys(), results.values())\n",
    "plt.title('Model Performance Comparison')\n",
    "plt.ylabel('Test Accuracy (%)')\n",
    "plt.ylim(0, 100)\n",
    "for i, v in enumerate(results.values()):\n",
    "    plt.text(i, v + 1, f'{v:.2f}%', ha='center')\n",
    "plt.show()"
   ]
  },
  {
   "cell_type": "code",
   "execution_count": null,
   "metadata": {},
   "outputs": [],
   "source": []
  }
 ],
 "metadata": {
  "kernelspec": {
   "display_name": ".venv",
   "language": "python",
   "name": "python3"
  },
  "language_info": {
   "codemirror_mode": {
    "name": "ipython",
    "version": 3
   },
   "file_extension": ".py",
   "mimetype": "text/x-python",
   "name": "python",
   "nbconvert_exporter": "python",
   "pygments_lexer": "ipython3",
   "version": "3.11.10"
  }
 },
 "nbformat": 4,
 "nbformat_minor": 2
}
